{
 "cells": [
  {
   "cell_type": "markdown",
   "metadata": {},
   "source": [
    "## 1. write a program to subtract two complex numbers in python "
   ]
  },
  {
   "cell_type": "code",
   "execution_count": 2,
   "metadata": {},
   "outputs": [
    {
     "name": "stdout",
     "output_type": "stream",
     "text": [
      "The output of two complex numbers a and b is  (-2-2j)\n"
     ]
    }
   ],
   "source": [
    "a = 4+5j\n",
    "b = 6+7j\n",
    "c = a-b\n",
    "print('The output of two complex numbers a and b is ',c)"
   ]
  },
  {
   "cell_type": "markdown",
   "metadata": {},
   "source": [
    "## 2. write a program to find the fourth root of a number"
   ]
  },
  {
   "cell_type": "code",
   "execution_count": 4,
   "metadata": {},
   "outputs": [
    {
     "name": "stdout",
     "output_type": "stream",
     "text": [
      "The fourth root of 256 is  4.0\n"
     ]
    }
   ],
   "source": [
    "a = 256\n",
    "b = 256 ** (1/4)\n",
    "print('The fourth root of 256 is ',b)"
   ]
  },
  {
   "cell_type": "markdown",
   "metadata": {},
   "source": [
    "## 3.Write a program to swap two nummbers in python with the help of a temporary variable."
   ]
  },
  {
   "cell_type": "code",
   "execution_count": 6,
   "metadata": {},
   "outputs": [
    {
     "name": "stdout",
     "output_type": "stream",
     "text": [
      "The vlaue of x before swapping:  5\n",
      "The value of y before swapping:  10\n",
      "--------------------------------------------\n",
      "The value of x after swapping :  10\n",
      "The value of Y after swapping:  5\n"
     ]
    }
   ],
   "source": [
    "x = 5\n",
    "y = 10\n",
    "print('The vlaue of x before swapping: ',x)\n",
    "print('The value of y before swapping: ',y)\n",
    "print('--------------------------------------------')\n",
    "temp = x\n",
    "x=y\n",
    "y= temp\n",
    "\n",
    "print('The value of x after swapping : ',x)\n",
    "print('The value of Y after swapping: ',y)"
   ]
  },
  {
   "cell_type": "markdown",
   "metadata": {},
   "source": [
    "## 4. write a program to swap two numbers in python without using temporary variable."
   ]
  },
  {
   "cell_type": "code",
   "execution_count": 7,
   "metadata": {},
   "outputs": [
    {
     "name": "stdout",
     "output_type": "stream",
     "text": [
      "The vlaue of x before swapping:  1\n",
      "The value of y before swapping:  100\n",
      "--------------------------------------------\n",
      "The value of x after swapping :  100\n",
      "The value of Y after swapping:  1\n"
     ]
    }
   ],
   "source": [
    "x = 1\n",
    "y = 100\n",
    "\n",
    "print('The vlaue of x before swapping: ',x)\n",
    "print('The value of y before swapping: ',y)\n",
    "print('--------------------------------------------')\n",
    "\n",
    "x, y = y, x\n",
    "\n",
    "print('The value of x after swapping : ',x)\n",
    "print('The value of Y after swapping: ',y)\n"
   ]
  },
  {
   "cell_type": "markdown",
   "metadata": {},
   "source": [
    "## 5. Write a program to convert farenheit to Kelvin and celsius both."
   ]
  },
  {
   "cell_type": "code",
   "execution_count": 14,
   "metadata": {},
   "outputs": [
    {
     "name": "stdout",
     "output_type": "stream",
     "text": [
      "99.5 degree farenhiet is equal to 37.5 degree celcius\n",
      "------------------------------------------------\n",
      "99.5 degree farenhiet is equal to 311.0 degree kelvin\n"
     ]
    }
   ],
   "source": [
    "farenheit = 99.5\n",
    "\n",
    "#calculate celcius\n",
    "\n",
    "celsius = (farenheit - 32)/ 1.8\n",
    "\n",
    "print(f'99.5 degree farenhiet is equal to {celsius} degree celcius')\n",
    "\n",
    "print('------------------------------------------------')\n",
    "\n",
    "#calculate kelvin from farenheit\n",
    "\n",
    "kelvin = 273.5 + ((farenheit - 32.0) * (5.0/9.0))\n",
    "\n",
    "print(f'99.5 degree farenhiet is equal to {kelvin} degree kelvin')\n"
   ]
  },
  {
   "cell_type": "markdown",
   "metadata": {},
   "source": [
    "## 6. Write a program to demonstrate the available data types in python."
   ]
  },
  {
   "cell_type": "code",
   "execution_count": null,
   "metadata": {},
   "outputs": [],
   "source": [
    "a = 5\n",
    "print(a, ' is of type ', type(a))\n",
    "print('--------------------------------')\n",
    "print()\n",
    "b = 2.0\n",
    "print(b,' is of type ', type(b))\n",
    "print('--------------------------------------')\n",
    "print()\n",
    "\n",
    "c = 1+2j\n",
    "print(c,' is of type ', type(c))\n",
    "print('----------------------------------------')\n",
    "print()\n",
    "d = [1, 2.2, 'python']\n",
    "print(d, 'is of type ', type(d))\n",
    "print('-----------------------------------------')\n",
    "print()\n",
    "t = (5, 'python', 1+2j)\n",
    "print(t , ' is of type ', type(t))\n",
    "print('-----------------------------------------')\n",
    "print()\n",
    "d = {'abc': '1', 'fgh' : '2'}\n",
    "print(d,' is of type ', type(d))\n",
    "\n",
    "print('--------------------------------------------')\n",
    "print()\n",
    "s = 'Iam Dinesh'\n",
    "print(s,' is of type ', type(s))"
   ]
  },
  {
   "cell_type": "markdown",
   "metadata": {},
   "source": [
    "## Create a Markdown cell in jupiter and list the steps discussed in the session by Dr. Darshan Ingie sir to create profile and upload Github Assignment."
   ]
  },
  {
   "cell_type": "markdown",
   "metadata": {},
   "source": [
    "## steps 1:\n",
    "\n",
    "__  opening Github account signning page using github.com \n",
    "\n",
    "## step 2:\n",
    " \n",
    " --> Then signupp and open a new github account.\n",
    " \n",
    " ## step 3:\n",
    "  \n",
    "  --> Then Creating a new repository with name  LetsUpgrade AI and ML \n",
    "  \n",
    "## step 4:\n",
    " \n",
    "  --> Making the profile to be available public\n",
    "  \n",
    "## step 5:\n",
    "   \n",
    "   --> Drag an paste the folder containing the assignments of that tenure.\n",
    "   \n",
    " ## upload a jupiter notebook as a part of an assignment\n",
    " \n",
    "   -->1. click 'File' option in notebook\n",
    "   -->2. Go to 'download As' -> 'NoteBook.ipmy'\n",
    "   -->3. upload the downloaded .ipmy file to the github and share the link in google forms\n"
   ]
  },
  {
   "cell_type": "code",
   "execution_count": 20,
   "metadata": {},
   "outputs": [
    {
     "data": {
      "text/plain": [
       "'C:\\\\Users\\\\dinesh Pc'"
      ]
     },
     "execution_count": 20,
     "metadata": {},
     "output_type": "execute_result"
    }
   ],
   "source": [
    "import os\n",
    "os.getcwd()"
   ]
  },
  {
   "cell_type": "code",
   "execution_count": null,
   "metadata": {},
   "outputs": [],
   "source": []
  }
 ],
 "metadata": {
  "kernelspec": {
   "display_name": "Python 3",
   "language": "python",
   "name": "python3"
  },
  "language_info": {
   "codemirror_mode": {
    "name": "ipython",
    "version": 3
   },
   "file_extension": ".py",
   "mimetype": "text/x-python",
   "name": "python",
   "nbconvert_exporter": "python",
   "pygments_lexer": "ipython3",
   "version": "3.7.6"
  }
 },
 "nbformat": 4,
 "nbformat_minor": 4
}
