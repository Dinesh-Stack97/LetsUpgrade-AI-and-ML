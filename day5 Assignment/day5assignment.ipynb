{
 "cells": [
  {
   "cell_type": "markdown",
   "metadata": {},
   "source": [
    "# Assignment 5 | 10th july 2020\n"
   ]
  },
  {
   "cell_type": "markdown",
   "metadata": {},
   "source": [
    "## 1. Write a program to find the first 20 non - even prime natural numbers."
   ]
  },
  {
   "cell_type": "code",
   "execution_count": 2,
   "metadata": {},
   "outputs": [
    {
     "name": "stdout",
     "output_type": "stream",
     "text": [
      "prime numbers between  0  and  20  are: \n",
      "3 5 5 5 7 7 7 7 7 9 11 11 11 11 11 11 11 11 11 13 13 13 13 13 13 13 13 13 13 13 15 17 17 17 17 17 17 17 17 17 17 17 17 17 17 17 19 19 19 19 19 19 19 19 19 19 19 19 19 19 19 19 19 "
     ]
    }
   ],
   "source": [
    "lower = 0\n",
    "upper = 20\n",
    "\n",
    "print('prime numbers between ',lower, ' and ',upper, ' are: ')\n",
    "\n",
    "for num in range(lower, upper + 1):\n",
    "    if num>1:\n",
    "        for i in range(2,num):\n",
    "            if (num% i == 0):\n",
    "                break\n",
    "                \n",
    "            else:\n",
    "                print(\"%d\" %num,end=\" \")"
   ]
  },
  {
   "cell_type": "code",
   "execution_count": 8,
   "metadata": {},
   "outputs": [
    {
     "name": "stdout",
     "output_type": "stream",
     "text": [
      "2 3 5 7 11 13 17 19 23 29 31 37 41 43 47 53 59 61 67 71 73 79 83 89 97 "
     ]
    }
   ],
   "source": [
    "for Number in range(1,100):\n",
    "    count = 0\n",
    "    \n",
    "    for i in range(2, (Number//2 + 1)):\n",
    "        if(Number % i == 0):\n",
    "            count = count + 1\n",
    "            \n",
    "            break\n",
    "            \n",
    "    if(count == 0 and Number !=1):\n",
    "        print(\"%d\" %Number, end = \" \")\n",
    "            \n",
    "        \n"
   ]
  },
  {
   "cell_type": "markdown",
   "metadata": {},
   "source": [
    "## 2. write a program to implement 15 functions of string"
   ]
  },
  {
   "cell_type": "markdown",
   "metadata": {},
   "source": [
    "__comparison Functions__"
   ]
  },
  {
   "cell_type": "markdown",
   "metadata": {},
   "source": [
    "__1. islower()__ :"
   ]
  },
  {
   "cell_type": "code",
   "execution_count": 10,
   "metadata": {},
   "outputs": [
    {
     "name": "stdout",
     "output_type": "stream",
     "text": [
      "False\n",
      "--------------------------------------\n",
      "True\n"
     ]
    }
   ],
   "source": [
    "var = 'Python'\n",
    "print (var.islower())\n",
    "\n",
    "print('--------------------------------------')\n",
    "\n",
    "var = 'python'\n",
    "print(var.islower())"
   ]
  },
  {
   "cell_type": "markdown",
   "metadata": {},
   "source": [
    "__2. isupper() :__"
   ]
  },
  {
   "cell_type": "code",
   "execution_count": 11,
   "metadata": {},
   "outputs": [
    {
     "name": "stdout",
     "output_type": "stream",
     "text": [
      "False\n",
      "--------------------------------------\n",
      "True\n"
     ]
    }
   ],
   "source": [
    "var = 'Python'\n",
    "print (var.isupper())\n",
    "\n",
    "print('--------------------------------------')\n",
    "\n",
    "var = 'PYTHON'\n",
    "print(var.isupper())"
   ]
  },
  {
   "cell_type": "markdown",
   "metadata": {},
   "source": [
    "__3. isnumeric():__"
   ]
  },
  {
   "cell_type": "code",
   "execution_count": 13,
   "metadata": {},
   "outputs": [
    {
     "name": "stdout",
     "output_type": "stream",
     "text": [
      "True\n",
      "\n",
      "-------------------------------------------\n",
      "False\n"
     ]
    }
   ],
   "source": [
    "num=u'2016'\n",
    "\n",
    "print (num.isnumeric())\n",
    "print()\n",
    "print('-------------------------------------------')\n",
    "\n",
    "num = u'year2016'\n",
    "print(num.isnumeric())"
   ]
  },
  {
   "cell_type": "markdown",
   "metadata": {},
   "source": [
    "## padding functions"
   ]
  },
  {
   "cell_type": "markdown",
   "metadata": {},
   "source": [
    "__1.rjust(width[,fillchar])__"
   ]
  },
  {
   "cell_type": "code",
   "execution_count": 14,
   "metadata": {},
   "outputs": [
    {
     "name": "stdout",
     "output_type": "stream",
     "text": [
      "    python\n",
      "-------------------------------\n",
      "----python\n"
     ]
    }
   ],
   "source": [
    "var = 'python'\n",
    "print (var.rjust(10))\n",
    "\n",
    "print('-------------------------------')\n",
    "\n",
    "print(var.rjust(10,'-'))"
   ]
  },
  {
   "cell_type": "markdown",
   "metadata": {},
   "source": [
    "__2. ljust(width[,fillchar]):__"
   ]
  },
  {
   "cell_type": "code",
   "execution_count": 15,
   "metadata": {},
   "outputs": [
    {
     "name": "stdout",
     "output_type": "stream",
     "text": [
      "python    \n",
      "-------------------------------\n",
      "python----\n"
     ]
    }
   ],
   "source": [
    "var = 'python'\n",
    "print(var.ljust(10))\n",
    "print('-------------------------------')\n",
    "\n",
    "print(var.ljust(10,'-'))"
   ]
  },
  {
   "cell_type": "markdown",
   "metadata": {},
   "source": [
    "__center(width[,fillchar]):__"
   ]
  },
  {
   "cell_type": "code",
   "execution_count": 16,
   "metadata": {},
   "outputs": [
    {
     "name": "stdout",
     "output_type": "stream",
     "text": [
      "       python       \n",
      "------------------------------------\n",
      "*******python*******\n"
     ]
    }
   ],
   "source": [
    "var = 'python'\n",
    "print(var.center(20))\n",
    "print('------------------------------------')\n",
    "var = 'python'\n",
    "print(var.center(20,'*'))"
   ]
  },
  {
   "cell_type": "markdown",
   "metadata": {},
   "source": [
    "## search Functions"
   ]
  },
  {
   "cell_type": "markdown",
   "metadata": {},
   "source": [
    "__1. find(str [,i [,j]]):__"
   ]
  },
  {
   "cell_type": "code",
   "execution_count": 17,
   "metadata": {},
   "outputs": [
    {
     "name": "stdout",
     "output_type": "stream",
     "text": [
      "5\n",
      "----------------------------\n",
      "5\n",
      "--------------------------------\n",
      "-1\n"
     ]
    }
   ],
   "source": [
    "var = \"Tech Beamers\"\n",
    "\n",
    "str = \"Beam\"\n",
    "\n",
    "print(var.find(str))\n",
    "\n",
    "print('----------------------------')\n",
    "var = \"Tech Beamers\"\n",
    "\n",
    "str = \"Beam\"\n",
    "\n",
    "print(var.find(str,4))\n",
    "\n",
    "print('--------------------------------')\n",
    "\n",
    "var = \"Tech Beamers\"\n",
    "\n",
    "str = \"Beam\"\n",
    "\n",
    "print(var.find(str,7))"
   ]
  },
  {
   "cell_type": "markdown",
   "metadata": {},
   "source": [
    "__2. rfind(str[,i [,j]]):__"
   ]
  },
  {
   "cell_type": "code",
   "execution_count": 18,
   "metadata": {},
   "outputs": [
    {
     "name": "stdout",
     "output_type": "stream",
     "text": [
      "5\n",
      "-----------------------\n",
      "-1\n"
     ]
    }
   ],
   "source": [
    "var = 'This is a good example'\n",
    "\n",
    "str = 'is'\n",
    "\n",
    "print(var.rfind(str,0,10))\n",
    "\n",
    "print('-----------------------')\n",
    "\n",
    "print(var.rfind(str,10))\n"
   ]
  },
  {
   "cell_type": "markdown",
   "metadata": {},
   "source": [
    "__3. split([step[,maxsplit]]):__"
   ]
  },
  {
   "cell_type": "code",
   "execution_count": 19,
   "metadata": {},
   "outputs": [
    {
     "name": "stdout",
     "output_type": "stream",
     "text": [
      "['This', 'is', 'a', 'good', 'example']\n"
     ]
    }
   ],
   "source": [
    "var = 'This is a good example'\n",
    "\n",
    "str = 'is'\n",
    "\n",
    "print(var.split())\n",
    "\n"
   ]
  },
  {
   "cell_type": "markdown",
   "metadata": {},
   "source": [
    "__4. join():__"
   ]
  },
  {
   "cell_type": "code",
   "execution_count": 20,
   "metadata": {},
   "outputs": [
    {
     "name": "stdout",
     "output_type": "stream",
     "text": [
      "ab=bc=cd\n"
     ]
    }
   ],
   "source": [
    "seq = ('ab', 'bc', 'cd')\n",
    "str ='='\n",
    "\n",
    "print(str.join(seq))"
   ]
  },
  {
   "cell_type": "markdown",
   "metadata": {},
   "source": [
    "## substitution functions"
   ]
  },
  {
   "cell_type": "markdown",
   "metadata": {},
   "source": [
    "__1. replace(old,new[,count]):__"
   ]
  },
  {
   "cell_type": "code",
   "execution_count": 21,
   "metadata": {},
   "outputs": [
    {
     "name": "stdout",
     "output_type": "stream",
     "text": [
      "Thwas was a good example\n",
      "-----------------------\n"
     ]
    }
   ],
   "source": [
    "var = 'This is a good example'\n",
    "\n",
    "str = 'was'\n",
    "\n",
    "print(var.replace('is',str))\n",
    "\n",
    "print('-----------------------')"
   ]
  },
  {
   "cell_type": "markdown",
   "metadata": {},
   "source": [
    "__2. swapcase():__"
   ]
  },
  {
   "cell_type": "code",
   "execution_count": 22,
   "metadata": {},
   "outputs": [
    {
     "name": "stdout",
     "output_type": "stream",
     "text": [
      "tECHbEAMERS\n"
     ]
    }
   ],
   "source": [
    "var = 'TechBeamers'\n",
    "print(var.swapcase())"
   ]
  },
  {
   "cell_type": "code",
   "execution_count": 24,
   "metadata": {},
   "outputs": [
    {
     "ename": "AttributeError",
     "evalue": "'str' object has no attribute 'concatinate'",
     "output_type": "error",
     "traceback": [
      "\u001b[1;31m---------------------------------------------------------------------------\u001b[0m",
      "\u001b[1;31mAttributeError\u001b[0m                            Traceback (most recent call last)",
      "\u001b[1;32m<ipython-input-24-c8113d1ab505>\u001b[0m in \u001b[0;36m<module>\u001b[1;34m\u001b[0m\n\u001b[0;32m      2\u001b[0m \u001b[0mvar2\u001b[0m \u001b[1;33m=\u001b[0m \u001b[1;34m' kumar n n'\u001b[0m\u001b[1;33m\u001b[0m\u001b[1;33m\u001b[0m\u001b[0m\n\u001b[0;32m      3\u001b[0m \u001b[1;33m\u001b[0m\u001b[0m\n\u001b[1;32m----> 4\u001b[1;33m \u001b[0mvar3\u001b[0m \u001b[1;33m=\u001b[0m \u001b[0mvar1\u001b[0m\u001b[1;33m.\u001b[0m\u001b[0mconcatinate\u001b[0m\u001b[1;33m(\u001b[0m\u001b[0mvar2\u001b[0m\u001b[1;33m)\u001b[0m\u001b[1;33m\u001b[0m\u001b[1;33m\u001b[0m\u001b[0m\n\u001b[0m",
      "\u001b[1;31mAttributeError\u001b[0m: 'str' object has no attribute 'concatinate'"
     ]
    }
   ],
   "source": [
    "var1 = 'dinesh'\n",
    "var2 = ' kumar n n'\n",
    "\n",
    "var3 = var1.con(var2)"
   ]
  },
  {
   "cell_type": "markdown",
   "metadata": {},
   "source": [
    "## 3. write  a program to check if the given string is a palindrome or Anagram or None of them.\n",
    "## Display the message accordingly to the user."
   ]
  },
  {
   "cell_type": "code",
   "execution_count": null,
   "metadata": {},
   "outputs": [],
   "source": [
    "word = input('Enter the String: ')\n",
    "boolean result = "
   ]
  },
  {
   "cell_type": "code",
   "execution_count": null,
   "metadata": {},
   "outputs": [],
   "source": [
    "\n",
    "s1 = input('Enter a String: ')\n",
    "s2 = input('Enter the second string: ')\n",
    "\n",
    "if s2 == s1[::-1]:\n",
    "    print('The strings are Palindrome')\n",
    "    \n",
    "elif(sorted(s1) == sorted(s2)):\n",
    "        print('The Strings are Anagram.')\n",
    "else:\n",
    "    print('Number is not palindrome or anagram')\n",
    "        \n",
    "        "
   ]
  },
  {
   "cell_type": "markdown",
   "metadata": {},
   "source": [
    "## 4. write a python's user defined function that removes all the additional charrecters from the string and converts it fin ally to lower case using built in lower().\n",
    "\n",
    "__eg: if the string is \"Dr.Darshan Inge@AI-ML Trainer\", then the output be \"drdarshaningeleaimltrainer\"__"
   ]
  },
  {
   "cell_type": "code",
   "execution_count": 2,
   "metadata": {},
   "outputs": [
    {
     "name": "stdout",
     "output_type": "stream",
     "text": [
      "Resultant string : drdarshaningeaimltrainer\n"
     ]
    }
   ],
   "source": [
    "\n",
    "original_string =  \"Dr. Darshan Inge@AI-ML Trainer\"\n",
    "charecters_to_remove = \".@-' '`&$#%^()!\"\n",
    "\n",
    "new_string = original_string\n",
    "for charecter in charecters_to_remove:\n",
    "    new_string = new_string.replace(charecter,\"\").casefold()\n",
    "    \n",
    "\n",
    "\n",
    "print('Resultant string :',new_string)"
   ]
  },
  {
   "cell_type": "code",
   "execution_count": 4,
   "metadata": {},
   "outputs": [
    {
     "name": "stdout",
     "output_type": "stream",
     "text": [
      "Resultant string :drdarshaningeaimltrainer\n"
     ]
    }
   ],
   "source": [
    "test_string = \"Dr. Darshan Inge@AI-ML Trainer\"\n",
    "bad_charecters =\".@#$%^&*()_- !|' '\"\n",
    "\n",
    "new_string = test_string\n",
    "\n",
    "test_string = ''.join(i for i in test_string if not i in bad_charecters)\n",
    "print('Resultant string :'+ str(test_string.casefold()))"
   ]
  },
  {
   "cell_type": "code",
   "execution_count": 12,
   "metadata": {},
   "outputs": [
    {
     "name": "stdout",
     "output_type": "stream",
     "text": [
      "original string:  Dr. Darshan Inge@AI-ML Trainer\n",
      "Resultant list is :<filter object at 0x000000DBA827AB08>\n"
     ]
    }
   ],
   "source": [
    "test_string = \"Dr. Darshan Inge@AI-ML Trainer\"\n",
    "bad_charecters =\".@#$%^&*()_- !|' '\"\n",
    "\n",
    "print('original string: ',test_string)\n",
    "\n",
    "test_string = filter(lambda i: i not in bad_charecters, test_string)\n",
    "\n",
    "print(\"Resultant list is :\" + str(test_string))"
   ]
  },
  {
   "cell_type": "code",
   "execution_count": null,
   "metadata": {},
   "outputs": [],
   "source": []
  },
  {
   "cell_type": "code",
   "execution_count": null,
   "metadata": {},
   "outputs": [],
   "source": []
  }
 ],
 "metadata": {
  "kernelspec": {
   "display_name": "Python 3",
   "language": "python",
   "name": "python3"
  },
  "language_info": {
   "codemirror_mode": {
    "name": "ipython",
    "version": 3
   },
   "file_extension": ".py",
   "mimetype": "text/x-python",
   "name": "python",
   "nbconvert_exporter": "python",
   "pygments_lexer": "ipython3",
   "version": "3.7.6"
  }
 },
 "nbformat": 4,
 "nbformat_minor": 4
}
