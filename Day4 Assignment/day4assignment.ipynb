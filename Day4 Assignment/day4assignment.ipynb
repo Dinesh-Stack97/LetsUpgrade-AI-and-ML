{
 "cells": [
  {
   "cell_type": "markdown",
   "metadata": {},
   "source": [
    "## 1. Research on whether addition , subtraction, multiplication, division, floor division, and modulo operations be performed on complex numbers.Based on your study , implement a python program to demonstrate the operations."
   ]
  },
  {
   "cell_type": "code",
   "execution_count": 30,
   "metadata": {},
   "outputs": [
    {
     "name": "stdout",
     "output_type": "stream",
     "text": [
      "Addition of complex numbers (3+4j) and (7+6j) is given by (10+10j)\n",
      "\n",
      "--------------------------------------------------------\n",
      "\n",
      "Subtraction of complex numbers (3+4j) and (7+6j) is given by (-4-2j)\n",
      "\n",
      "--------------------------------------------------------\n",
      "\n",
      "Multiplication of complex numbers (3+4j) and (7+6j) is given by (-3+46j)\n",
      "\n",
      "--------------------------------------------------------\n",
      "\n",
      "Division of complex numbers (3+4j) and (7+6j) is given by (0.5294117647058824+0.11764705882352944j)\n",
      "\n",
      "--------------------------------------------------------\n",
      "\n"
     ]
    }
   ],
   "source": [
    "a = 3+4j\n",
    "b = 7+6j\n",
    "\n",
    "#addition of two com plex numbers\n",
    "c= a+b\n",
    "print(f'Addition of complex numbers {a} and {b} is given by {c}')\n",
    "print()\n",
    "print('--------------------------------------------------------')\n",
    "print()\n",
    "\n",
    "#subtraction of two com plex numbers\n",
    "d = a-b\n",
    "print(f'Subtraction of complex numbers {a} and {b} is given by {d}')\n",
    "print()\n",
    "print('--------------------------------------------------------')\n",
    "print()\n",
    "\n",
    "#multiplication of two com plex numbers\n",
    "e = a*b\n",
    "print(f'Multiplication of complex numbers {a} and {b} is given by {e}')\n",
    "print()\n",
    "print('--------------------------------------------------------')\n",
    "print()\n",
    "\n",
    "#Division of two complex numbers\n",
    "f = a/b\n",
    "print(f'Division of complex numbers {a} and {b} is given by {f}')\n",
    "print()\n",
    "print('--------------------------------------------------------')\n",
    "print()\n",
    "\n",
    "\n",
    "\n",
    "\n"
   ]
  },
  {
   "cell_type": "code",
   "execution_count": null,
   "metadata": {},
   "outputs": [],
   "source": [
    "#Modulo of two complex numbers\n",
    "m = a//b\n",
    "print(f'Modulo of complex numbers {a} and {b} is given by {m}')\n",
    "print()\n",
    "print('--------------------------------------------------------')\n",
    "print()\n",
    "\n",
    "#FloorDivision of two complex numbers\n",
    "f = a//b\n",
    "print(f'Division of complex numbers {a} and {b} is given by {f}')\n",
    "print()\n",
    "print('--------------------------------------------------------')\n",
    "print()"
   ]
  },
  {
   "cell_type": "markdown",
   "metadata": {},
   "source": [
    "__complex numbers are numbers with a real and imaginary parts. They're only worth nothing here because neither modulo nor floor division can accept a complex number as an operand.Trying to use a complex number for floor divission or modulo operations will raise a type error.__"
   ]
  },
  {
   "cell_type": "markdown",
   "metadata": {},
   "source": [
    "## 2. Research on range() functions and its parameters. Create a markdown cell and write in your own words(no copy-paste from google please) when you want you to understand about it.Implement a smallprogram of your choice on the same."
   ]
  },
  {
   "cell_type": "markdown",
   "metadata": {},
   "source": [
    "__1. Its an inbuilt function in python__\n",
    "\n",
    "__2. It generates a series of numbers fron start value to stop vlaue specified by user.__\n",
    "\n",
    "__3. Range function takes two parsmeters__\n",
    "\n",
    "__4. Syntax:__\n",
    "       \n",
    "       __range(start, stop[,step])__\n",
    "      \n",
    "  __-->'start': starting point of the range for ngenerating numbers__\n",
    "  \n",
    "  __-->'stop': point just before the range ends__\n",
    "  \n",
    "  __-->'step': common differnce or the increment counter between two values.__\n",
    "  \n",
    "  __--> The default step value is 1.It would be used if atep argument is missing.__\n",
    "  \n",
    "  __-->A Zero value of step results in value error.__\n",
    "  \n",
    "  __-->A non-integer value causes a Type error.__\n",
    "  \n",
    "  \n",
    "  \n",
    "__5. Range function only accepts integer arguments. To generate a float range__\n",
    "  \n",
    "  "
   ]
  },
  {
   "cell_type": "markdown",
   "metadata": {},
   "source": [
    "## Implementation of illustrations on range function"
   ]
  },
  {
   "cell_type": "code",
   "execution_count": 10,
   "metadata": {},
   "outputs": [
    {
     "name": "stdout",
     "output_type": "stream",
     "text": [
      "99\n",
      "88\n",
      "77\n",
      "66\n",
      "55\n",
      "44\n",
      "33\n",
      "22\n",
      "11\n",
      "0\n"
     ]
    }
   ],
   "source": [
    "for number in range(99, -1, -11):\n",
    "    print(number)"
   ]
  },
  {
   "cell_type": "code",
   "execution_count": 11,
   "metadata": {},
   "outputs": [
    {
     "name": "stdout",
     "output_type": "stream",
     "text": [
      "python\n",
      "datascience\n",
      "machine learning\n",
      "AI\n",
      "Deep Learning\n"
     ]
    }
   ],
   "source": [
    "books = ['python', 'datascience', 'machine learning', 'AI', 'Deep Learning']\n",
    "\n",
    "size = len(books)\n",
    "\n",
    "for book in range(0, size):\n",
    "    print(books[book])"
   ]
  },
  {
   "cell_type": "markdown",
   "metadata": {},
   "source": [
    "## 3.Consider two numbers. Perform their subtraction and if the result of subtraction is greater than 25,print their multiplication result else print their division result."
   ]
  },
  {
   "cell_type": "code",
   "execution_count": 17,
   "metadata": {},
   "outputs": [
    {
     "name": "stdout",
     "output_type": "stream",
     "text": [
      "Enter the value of a:50\n",
      "Enter the value of b: 25\n",
      "The Division of 50 and 25 id 2.0\n"
     ]
    }
   ],
   "source": [
    "a = int(input('Enter the value of a:'))\n",
    "\n",
    "b = int(input('Enter the value of b: '))\n",
    "c = a-b\n",
    "if c>25:\n",
    "    d = a*b\n",
    "    print(f'The Multiplication of {a} and {b} is {d}')\n",
    "else:\n",
    "        e = a/b\n",
    "        print(f'The Division of {a} and {b} id {e}')\n"
   ]
  },
  {
   "cell_type": "markdown",
   "metadata": {},
   "source": [
    "## 4. Consider a list of 10 elements of integer values. If the number in the list is divisible by 2,print the result as \"square of that number minus 2\"."
   ]
  },
  {
   "cell_type": "code",
   "execution_count": 22,
   "metadata": {},
   "outputs": [
    {
     "name": "stdout",
     "output_type": "stream",
     "text": [
      "square of that number 2 minus 2:  2\n",
      "square of that number 4 minus 2:  14\n",
      "square of that number 6 minus 2:  34\n",
      "square of that number 8 minus 2:  62\n",
      "square of that number 10 minus 2:  98\n",
      "square of that number 12 minus 2:  142\n"
     ]
    }
   ],
   "source": [
    "lst = [2,3,4,5,6,7,8,9,10,12]\n",
    "for ele in  lst:\n",
    "    if ele % 2 == 0:\n",
    "        ele1 = (ele**2) -2\n",
    "        print(f'square of that number {ele} minus 2: ',ele1 )"
   ]
  },
  {
   "cell_type": "markdown",
   "metadata": {},
   "source": [
    "## 5. Consider a list of 10 elements.Print all the elements in the list which are greater than 7 when that number is divided by 2.\n"
   ]
  },
  {
   "cell_type": "code",
   "execution_count": 32,
   "metadata": {},
   "outputs": [],
   "source": [
    "lst =[4,10,20,30,25,40,50,12,14,60,70,80,90,100]\n",
    "\n",
    "for ele in lst:\n",
    "    if ele % 2 > 7:\n",
    "        print(ele)\n",
    "        \n",
    "    \n",
    "    \n"
   ]
  },
  {
   "cell_type": "code",
   "execution_count": 33,
   "metadata": {},
   "outputs": [
    {
     "name": "stdout",
     "output_type": "stream",
     "text": [
      "20\n",
      "30\n",
      "25\n",
      "40\n",
      "50\n",
      "60\n",
      "70\n",
      "80\n",
      "90\n",
      "100\n"
     ]
    }
   ],
   "source": [
    "lst =[4,10,20,30,25,40,50,12,14,60,70,80,90,100]\n",
    "\n",
    "for ele in lst:\n",
    "    if ele / 2 > 7:\n",
    "        print(ele)"
   ]
  },
  {
   "cell_type": "code",
   "execution_count": 34,
   "metadata": {},
   "outputs": [],
   "source": [
    "lst =[4,10,20,30,25,40,50,12,14,60,70,80,90,100]\n",
    "\n",
    "for ele in lst:\n",
    "    if ele % 2 > 7:\n",
    "        print(ele)"
   ]
  },
  {
   "cell_type": "code",
   "execution_count": null,
   "metadata": {},
   "outputs": [],
   "source": []
  },
  {
   "cell_type": "code",
   "execution_count": null,
   "metadata": {},
   "outputs": [],
   "source": []
  },
  {
   "cell_type": "code",
   "execution_count": null,
   "metadata": {},
   "outputs": [],
   "source": []
  },
  {
   "cell_type": "code",
   "execution_count": null,
   "metadata": {},
   "outputs": [],
   "source": []
  }
 ],
 "metadata": {
  "kernelspec": {
   "display_name": "Python 3",
   "language": "python",
   "name": "python3"
  },
  "language_info": {
   "codemirror_mode": {
    "name": "ipython",
    "version": 3
   },
   "file_extension": ".py",
   "mimetype": "text/x-python",
   "name": "python",
   "nbconvert_exporter": "python",
   "pygments_lexer": "ipython3",
   "version": "3.7.6"
  }
 },
 "nbformat": 4,
 "nbformat_minor": 4
}
