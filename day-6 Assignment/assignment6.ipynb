{
 "cells": [
  {
   "cell_type": "markdown",
   "metadata": {},
   "source": [
    "# Assignment Day - 6 | 14th July 2020"
   ]
  },
  {
   "cell_type": "markdown",
   "metadata": {},
   "source": [
    "## 1. Assuming that we have some email address in the \"username@companyname.com\" format, please write program to print the company name of a given email addredd. Both user names and company name are composed of letters only\n",
    "\n",
    "__Input Format:__\n",
    "__The first line contains an email address.__\n",
    "__OutPut Format:__\n",
    "__print company name in single line__"
   ]
  },
  {
   "cell_type": "code",
   "execution_count": 1,
   "metadata": {},
   "outputs": [
    {
     "name": "stdout",
     "output_type": "stream",
     "text": [
      "Enter the E-mail:user@google.com\n",
      "google\n"
     ]
    }
   ],
   "source": [
    "# using regular expressions\n",
    "import re\n",
    "emailAddress = input('Enter the E-mail:')\n",
    "pattern = \"(\\w+)@(\\w+)\\.(com)\"\n",
    "ans = re.match(pattern,emailAddress)\n",
    "print(ans.group(2))"
   ]
  },
  {
   "cell_type": "code",
   "execution_count": 4,
   "metadata": {},
   "outputs": [
    {
     "name": "stdout",
     "output_type": "stream",
     "text": [
      "enter the email: username@google.com\n",
      "google"
     ]
    }
   ],
   "source": [
    "emailAddress = input('enter the email: ')\n",
    "x = emailAddress.index(\"@\")\n",
    "print(emailAddress[x+1:len(emailAddress)-4],end=\"\")"
   ]
  },
  {
   "cell_type": "code",
   "execution_count": null,
   "metadata": {},
   "outputs": [],
   "source": [
    "def getname(s):\n",
    "    try:\n",
    "        return s.replace(\"@\",\".\").split(\".\")[1]\n",
    "    except:\n",
    "        print(\"error\")\n",
    "        \n",
    "getname(\"user@google.com\")"
   ]
  },
  {
   "cell_type": "markdown",
   "metadata": {},
   "source": [
    "## 2. Write a program that accepts a comma-seperated sequence of words as input and prints the word in a comma seperated sequence after sorting them alphabetically."
   ]
  },
  {
   "cell_type": "code",
   "execution_count": 4,
   "metadata": {},
   "outputs": [
    {
     "name": "stdout",
     "output_type": "stream",
     "text": [
      "Input comma seperated sequence of words: without,hello,bag,world\n",
      "bag,hello,without,world\n"
     ]
    }
   ],
   "source": [
    "items = input(\"Input comma seperated sequence of words: \")\n",
    "words = [word for word in items.split(\",\")]\n",
    "print(\",\".join(sorted(list(set(words)))))"
   ]
  },
  {
   "cell_type": "code",
   "execution_count": 6,
   "metadata": {},
   "outputs": [
    {
     "name": "stdout",
     "output_type": "stream",
     "text": [
      "Input comma seperated sequence of words: without,hello,bag,world\n",
      "bag,hello,without,world"
     ]
    }
   ],
   "source": [
    "items = input(\"Input comma seperated sequence of words: \")\n",
    "items = items.split(\",\")\n",
    "items = sorted(items)\n",
    "print(\",\".join(items),end=\"\")"
   ]
  },
  {
   "cell_type": "code",
   "execution_count": null,
   "metadata": {},
   "outputs": [],
   "source": []
  }
 ],
 "metadata": {
  "kernelspec": {
   "display_name": "Python 3",
   "language": "python",
   "name": "python3"
  },
  "language_info": {
   "codemirror_mode": {
    "name": "ipython",
    "version": 3
   },
   "file_extension": ".py",
   "mimetype": "text/x-python",
   "name": "python",
   "nbconvert_exporter": "python",
   "pygments_lexer": "ipython3",
   "version": "3.7.6"
  }
 },
 "nbformat": 4,
 "nbformat_minor": 4
}
