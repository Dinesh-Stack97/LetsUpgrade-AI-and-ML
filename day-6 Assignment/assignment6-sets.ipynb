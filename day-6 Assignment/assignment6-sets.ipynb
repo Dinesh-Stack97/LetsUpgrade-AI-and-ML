{
 "cells": [
  {
   "cell_type": "markdown",
   "metadata": {},
   "source": [
    "# Assignment Day - 6 | 14th july 2020\n"
   ]
  },
  {
   "cell_type": "markdown",
   "metadata": {},
   "source": [
    "## Sets"
   ]
  },
  {
   "cell_type": "markdown",
   "metadata": {},
   "source": [
    "## 4. Create a list of n-1 numbers ranging from 1 to n , your task is to find the missing number .There are no duplicates.\n",
    "\n",
    "\n",
    "__Input Format: 1 2 3 4 6 7 8.__\n",
    "__Output: 5__"
   ]
  },
  {
   "cell_type": "code",
   "execution_count": 1,
   "metadata": {},
   "outputs": [
    {
     "name": "stdout",
     "output_type": "stream",
     "text": [
      "5\n",
      "13\n"
     ]
    }
   ],
   "source": [
    "def missing_number(num_list):\n",
    "    return sum(range(num_list[0],num_list[-1]+1)) - sum(num_list)\n",
    "\n",
    "print(missing_number([1,2,3,4,6,7,8]))\n",
    "print(missing_number([10,11,12,14,15]))"
   ]
  },
  {
   "cell_type": "markdown",
   "metadata": {},
   "source": [
    "## 5. with a given list , write a program to print this list L after removing all dupllicate values with original order reserved."
   ]
  },
  {
   "cell_type": "markdown",
   "metadata": {},
   "source": [
    "__input: 12,12,13,14,14,15,15__\n",
    "__Output: 12,13,14,15__"
   ]
  },
  {
   "cell_type": "code",
   "execution_count": 3,
   "metadata": {},
   "outputs": [
    {
     "name": "stdout",
     "output_type": "stream",
     "text": [
      "The original list is: [1, 2, 2, 3, 5, 5, 6, 6, 1]\n",
      "\n",
      "-------------------------------------------\n",
      "The line after removing duplicates: [1, 2, 3, 5, 6]\n"
     ]
    }
   ],
   "source": [
    "test_list = [1,2,2,3,5,5,6,6,1]\n",
    "print(\"The original list is: \"+ str(test_list))\n",
    "print()\n",
    "print('-------------------------------------------')\n",
    "res = []\n",
    "for i in test_list:\n",
    "    if i not in res:\n",
    "        res.append(i)\n",
    "        \n",
    "print('The line after removing duplicates: '+ str(res))"
   ]
  },
  {
   "cell_type": "code",
   "execution_count": 4,
   "metadata": {},
   "outputs": [
    {
     "name": "stdout",
     "output_type": "stream",
     "text": [
      "The original list is: [1, 2, 2, 3, 5, 5, 6, 6, 1]\n",
      "\n",
      "-------------------------------------------\n",
      "The line after removing duplicates: [1, 2, 3, 5, 6]\n"
     ]
    }
   ],
   "source": [
    "# using sets\n",
    "test_list = [1,2,2,3,5,5,6,6,1]\n",
    "print(\"The original list is: \"+ str(test_list))\n",
    "print()\n",
    "print('-------------------------------------------')\n",
    "\n",
    "test_list = list(set(test_list))\n",
    "print('The line after removing duplicates: '+ str(test_list))"
   ]
  },
  {
   "cell_type": "code",
   "execution_count": 6,
   "metadata": {},
   "outputs": [
    {
     "name": "stdout",
     "output_type": "stream",
     "text": [
      "The original list is: [1, 2, 2, 3, 5, 5, 6, 6, 1]\n",
      "\n",
      "-------------------------------------------\n"
     ]
    },
    {
     "ename": "NameError",
     "evalue": "name 'OrderedDict' is not defined",
     "output_type": "error",
     "traceback": [
      "\u001b[1;31m---------------------------------------------------------------------------\u001b[0m",
      "\u001b[1;31mNameError\u001b[0m                                 Traceback (most recent call last)",
      "\u001b[1;32m<ipython-input-6-458d546618b3>\u001b[0m in \u001b[0;36m<module>\u001b[1;34m\u001b[0m\n\u001b[0;32m      4\u001b[0m \u001b[0mprint\u001b[0m\u001b[1;33m(\u001b[0m\u001b[1;33m)\u001b[0m\u001b[1;33m\u001b[0m\u001b[1;33m\u001b[0m\u001b[0m\n\u001b[0;32m      5\u001b[0m \u001b[0mprint\u001b[0m\u001b[1;33m(\u001b[0m\u001b[1;34m'-------------------------------------------'\u001b[0m\u001b[1;33m)\u001b[0m\u001b[1;33m\u001b[0m\u001b[1;33m\u001b[0m\u001b[0m\n\u001b[1;32m----> 6\u001b[1;33m \u001b[0mres\u001b[0m \u001b[1;33m=\u001b[0m \u001b[0mlist\u001b[0m\u001b[1;33m(\u001b[0m\u001b[0mOrderedDict\u001b[0m\u001b[1;33m.\u001b[0m\u001b[0mfromkeys\u001b[0m\u001b[1;33m(\u001b[0m\u001b[0mtest_list\u001b[0m\u001b[1;33m)\u001b[0m\u001b[1;33m)\u001b[0m\u001b[1;33m\u001b[0m\u001b[1;33m\u001b[0m\u001b[0m\n\u001b[0m\u001b[0;32m      7\u001b[0m \u001b[0mprint\u001b[0m\u001b[1;33m(\u001b[0m\u001b[1;34m'The line after removing duplicates: '\u001b[0m\u001b[1;33m+\u001b[0m \u001b[0mstr\u001b[0m\u001b[1;33m(\u001b[0m\u001b[0mres\u001b[0m\u001b[1;33m)\u001b[0m\u001b[1;33m)\u001b[0m\u001b[1;33m\u001b[0m\u001b[1;33m\u001b[0m\u001b[0m\n",
      "\u001b[1;31mNameError\u001b[0m: name 'OrderedDict' is not defined"
     ]
    }
   ],
   "source": [
    "#using collections.orderDict.fromkeys\n",
    "test_list = [1,2,2,3,5,5,6,6,1]\n",
    "print(\"The original list is: \"+ str(test_list))\n",
    "print()\n",
    "print('-------------------------------------------')\n",
    "res = list(OrderedDict.fromkeys(test_list))\n",
    "print('The line after removing duplicates: '+ str(res))"
   ]
  },
  {
   "cell_type": "code",
   "execution_count": null,
   "metadata": {},
   "outputs": [],
   "source": []
  }
 ],
 "metadata": {
  "kernelspec": {
   "display_name": "Python 3",
   "language": "python",
   "name": "python3"
  },
  "language_info": {
   "codemirror_mode": {
    "name": "ipython",
    "version": 3
   },
   "file_extension": ".py",
   "mimetype": "text/x-python",
   "name": "python",
   "nbconvert_exporter": "python",
   "pygments_lexer": "ipython3",
   "version": "3.7.6"
  }
 },
 "nbformat": 4,
 "nbformat_minor": 4
}
